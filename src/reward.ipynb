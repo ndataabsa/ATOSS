{
 "cells": [
  {
   "cell_type": "code",
   "execution_count": 1,
   "id": "25ae352e-37ae-43b2-9f83-7d424a726236",
   "metadata": {},
   "outputs": [],
   "source": [
    "import pandas as pd\n",
    "import numpy as np\n",
    "import ast\n",
    "import re\n",
    "import os\n",
    "\n",
    "from atoss.process import *"
   ]
  },
  {
   "cell_type": "code",
   "execution_count": 2,
   "id": "aa789ae3-a9cd-449e-a3e6-663c1d1934e4",
   "metadata": {},
   "outputs": [
    {
     "name": "stdout",
     "output_type": "stream",
     "text": [
      "Data read. Total count:  606\n"
     ]
    }
   ],
   "source": [
    "file_name = f'/home/elicer/ABSA/data/asqp/rest15/train_asqp_rest16_only.txt'\n",
    "inputs, _ = split_sharp(file_name)"
   ]
  },
  {
   "cell_type": "code",
   "execution_count": 3,
   "id": "3c985daa-65e1-401a-9c53-5f84ae11bb1d",
   "metadata": {},
   "outputs": [
    {
     "name": "stdout",
     "output_type": "stream",
     "text": [
      "Data find. Total count:  606\n"
     ]
    }
   ],
   "source": [
    "# GPT zero shot으로 만들어진 샘플의 F1 score 및 해당 파일리스트 \n",
    "dir = f'/home/elicer/ABSA/outputs/mvp/asqp/rest15/top_5_post_data1.0/'\n",
    "xlsx_name = f'mdl_asqp_rest15_dat_zero_rest16_##.xlsx'\n",
    "file_name = f'zero_asqp_rest16_##_train.txt'\n",
    "split_xlsx_name = xlsx_name.split(\"##\")\n",
    "split_file_name = file_name.split(\"##\")\n",
    "llm_m15_d16, llm_m15_d16_list = f1_compute(dir, split_xlsx_name, split_file_name, 0, 11)\n",
    "dir = f'/home/elicer/ABSA/data/asqp/rest15'\n",
    "choosen_sent = find_sent_name(dir, llm_m15_d16_list)"
   ]
  },
  {
   "cell_type": "code",
   "execution_count": 4,
   "id": "14a19bb1-57ac-4bf5-91dc-b3ccac550370",
   "metadata": {},
   "outputs": [
    {
     "name": "stdout",
     "output_type": "stream",
     "text": [
      "Data find. Total count:  606\n"
     ]
    }
   ],
   "source": [
    "dir = f'/home/elicer/ABSA/outputs/mvp/asqp/rest15/top_5_post_data1.0/'\n",
    "xlsx_name = f'train_asqp_rest16_only_n10.xlsx'\n",
    "\n",
    "file_path = os.path.join(dir,xlsx_name)\n",
    "df = pd.read_excel(file_path)\n",
    "df_max = df.groupby('sent_id').agg({'max_ord_t': 'max','max_ord_p': 'max'}).reset_index()\n",
    "df_allmatch = df[df['score']=='all_match'].groupby('sent_id').agg({'score': 'count'}).reset_index()    \n",
    "merged_df = pd.merge(df_max, df_allmatch, on='sent_id', how='left')\n",
    "merged_df['score'] = merged_df['score'].fillna(0)\n",
    "merged_df['precision'] = merged_df['score']/merged_df['max_ord_p']\n",
    "merged_df['recall'] = merged_df['score']/merged_df['max_ord_t']\n",
    "merged_df['f1'] = 2 * merged_df['precision'] * merged_df['recall'] / (merged_df['precision'] + merged_df['recall'])\n",
    "merged_df['f1'] = merged_df['f1'].fillna(0)\n",
    "merged_df['Order'] = ((np.arange(len(merged_df)) // 10) + 1).astype('int64')\n",
    "merged_df = merged_df.sort_values(by=['Order', 'f1', 'sent_id'], ascending=[True, True, True])\n",
    "merged_df= merged_df.drop_duplicates(subset='Order', keep='first')\n",
    "line_list = list(merged_df['sent_id'].astype('int64'))\n",
    "\n",
    "file_name = f'/home/elicer/ABSA/data/asqp/rest15/train_asqp_rest16_only_n10.txt'\n",
    "rejected_sent = find_sent_lines(file_name, line_list)"
   ]
  },
  {
   "cell_type": "code",
   "execution_count": 9,
   "id": "df0e35ea-74f6-4d58-b12f-b991100b5d46",
   "metadata": {},
   "outputs": [
    {
     "name": "stdout",
     "output_type": "stream",
     "text": [
      "Input count: 606\n",
      "Expanded target count: 606\n",
      "Merged data count: 606\n",
      "Data return. Total count: 606\n",
      "Input count: 606\n",
      "Expanded target count: 606\n",
      "Merged data count: 606\n",
      "Data return. Total count: 606\n"
     ]
    }
   ],
   "source": [
    "mdl_r15_reward = merge_sharp_n(merge_sharp_n(inputs,choosen_sent),rejected_sent)\n",
    "file_name = f'/home/elicer/ATOSS/data/asqp/mdl_r15_reward.txt'\n",
    "\n",
    "with open(file_name, 'w', encoding='UTF-8') as file:\n",
    "    for line in mdl_r15_reward:\n",
    "        file.write(line + '\\n')\n"
   ]
  },
  {
   "cell_type": "code",
   "execution_count": 10,
   "id": "9bf2d0c2-0c24-47cf-ba1d-92f7a6752d54",
   "metadata": {},
   "outputs": [
    {
     "name": "stdout",
     "output_type": "stream",
     "text": [
      "Data read. Total count:  834\n"
     ]
    }
   ],
   "source": [
    "file_name = f'/home/elicer/ABSA/data/asqp/rest16/train_asqp_rest15_only.txt'\n",
    "inputs, _ = split_sharp(file_name)"
   ]
  },
  {
   "cell_type": "code",
   "execution_count": 11,
   "id": "54a649a2-51a5-4906-b1bf-ed20fc2adb90",
   "metadata": {},
   "outputs": [
    {
     "name": "stdout",
     "output_type": "stream",
     "text": [
      "Data find. Total count:  834\n"
     ]
    }
   ],
   "source": [
    "# GPT zero shot으로 만들어진 샘플의 F1 score 및 해당 파일리스트 \n",
    "dir = f'/home/elicer/ABSA/outputs/mvp/asqp/rest16/top_5_post_data1.0/'\n",
    "xlsx_name = f'mdl_asqp_rest16_dat_zero_rest15_##.xlsx'\n",
    "file_name = f'zero_asqp_rest15_##_train.txt'\n",
    "split_xlsx_name = xlsx_name.split(\"##\")\n",
    "split_file_name = file_name.split(\"##\")\n",
    "llm_m15_d16, llm_m15_d16_list = f1_compute(dir, split_xlsx_name, split_file_name, 0, 11)\n",
    "dir = f'/home/elicer/ABSA/data/asqp/rest16'\n",
    "choosen_sent = find_sent_name(dir, llm_m15_d16_list)"
   ]
  },
  {
   "cell_type": "code",
   "execution_count": 12,
   "id": "aac954e9-52b7-4eb2-ac4a-6811e17bf334",
   "metadata": {},
   "outputs": [
    {
     "name": "stdout",
     "output_type": "stream",
     "text": [
      "Data find. Total count:  834\n"
     ]
    }
   ],
   "source": [
    "dir = f'/home/elicer/ABSA/outputs/mvp/asqp/rest16/top_5_post_data1.0/'\n",
    "xlsx_name = f'train_asqp_rest15_only_n10.xlsx'\n",
    "\n",
    "file_path = os.path.join(dir,xlsx_name)\n",
    "df = pd.read_excel(file_path)\n",
    "df_max = df.groupby('sent_id').agg({'max_ord_t': 'max','max_ord_p': 'max'}).reset_index()\n",
    "df_allmatch = df[df['score']=='all_match'].groupby('sent_id').agg({'score': 'count'}).reset_index()    \n",
    "merged_df = pd.merge(df_max, df_allmatch, on='sent_id', how='left')\n",
    "merged_df['score'] = merged_df['score'].fillna(0)\n",
    "merged_df['precision'] = merged_df['score']/merged_df['max_ord_p']\n",
    "merged_df['recall'] = merged_df['score']/merged_df['max_ord_t']\n",
    "merged_df['f1'] = 2 * merged_df['precision'] * merged_df['recall'] / (merged_df['precision'] + merged_df['recall'])\n",
    "merged_df['f1'] = merged_df['f1'].fillna(0)\n",
    "merged_df['Order'] = ((np.arange(len(merged_df)) // 10) + 1).astype('int64')\n",
    "merged_df = merged_df.sort_values(by=['Order', 'f1', 'sent_id'], ascending=[True, True, True])\n",
    "merged_df= merged_df.drop_duplicates(subset='Order', keep='first')\n",
    "line_list = list(merged_df['sent_id'].astype('int64'))\n",
    "\n",
    "file_name = f'/home/elicer/ABSA/data/asqp/rest16/train_asqp_rest15_only_n10.txt'\n",
    "rejected_sent = find_sent_lines(file_name, line_list)"
   ]
  },
  {
   "cell_type": "code",
   "execution_count": 15,
   "id": "ee6a7cb7-d429-43d5-8e64-9d73e2ec2a7d",
   "metadata": {},
   "outputs": [
    {
     "name": "stdout",
     "output_type": "stream",
     "text": [
      "Input count: 834\n",
      "Expanded target count: 834\n",
      "Merged data count: 834\n",
      "Data return. Total count: 834\n",
      "Input count: 834\n",
      "Expanded target count: 834\n",
      "Merged data count: 834\n",
      "Data return. Total count: 834\n"
     ]
    }
   ],
   "source": [
    "mdl_r16_reward = merge_sharp_n(merge_sharp_n(inputs,choosen_sent),rejected_sent)\n",
    "file_name = f'/home/elicer/ATOSS/data/asqp/mdl_r16_reward.txt'\n",
    "\n",
    "with open(file_name, 'w', encoding='UTF-8') as file:\n",
    "    for line in mdl_r16_reward:\n",
    "        file.write(line + '\\n')\n"
   ]
  },
  {
   "cell_type": "code",
   "execution_count": null,
   "id": "430c68d6-a84d-463c-acf5-e7262e64d1f4",
   "metadata": {},
   "outputs": [],
   "source": [
    "# GPT zero shot으로 만들어진 샘플의 F1 score 및 해당 파일리스트 \n",
    "dir = f'/home/elicer/ABSA/outputs/mvp/acos/rest16/top_5_post_data1.0/'\n",
    "xlsx_name = f'mdl_acos_rest16_dat_zero_rest15_##.xlsx'\n",
    "file_name = f'zero_asqp_rest15_##_train.txt'\n",
    "split_xlsx_name = xlsx_name.split(\"##\")\n",
    "split_file_name = file_name.split(\"##\")\n",
    "llm_m15_d16, llm_m15_d16_list = f1_compute(dir, split_xlsx_name, split_file_name, 0, 11)\n",
    "dir = f'/home/elicer/ABSA/data/asqp/rest16'\n",
    "choosen_sent = find_sent_name(dir, llm_m15_d16_list)"
   ]
  },
  {
   "cell_type": "code",
   "execution_count": null,
   "id": "efa9488b-13c6-4c75-8319-8ff07948f584",
   "metadata": {},
   "outputs": [],
   "source": []
  }
 ],
 "metadata": {
  "kernelspec": {
   "display_name": "atoss",
   "language": "python",
   "name": "atoss"
  },
  "language_info": {
   "codemirror_mode": {
    "name": "ipython",
    "version": 3
   },
   "file_extension": ".py",
   "mimetype": "text/x-python",
   "name": "python",
   "nbconvert_exporter": "python",
   "pygments_lexer": "ipython3",
   "version": "3.8.13"
  }
 },
 "nbformat": 4,
 "nbformat_minor": 5
}
