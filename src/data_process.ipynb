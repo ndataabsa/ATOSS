{
 "cells": [
  {
   "cell_type": "code",
   "execution_count": 8,
   "id": "42c3f2bd-f7c4-468b-b6b3-4bdb250b3000",
   "metadata": {},
   "outputs": [],
   "source": [
    "import pandas as pd\n",
    "import os\n",
    "import re"
   ]
  },
  {
   "cell_type": "code",
   "execution_count": 9,
   "id": "960f7dcd-5d9c-4713-842e-4e5cb1392083",
   "metadata": {},
   "outputs": [],
   "source": [
    "def add_space(text):\n",
    "    text = re.sub(r'(?<=[\\w])([,:;.?!\\'()])', r' \\1', text)\n",
    "    text = re.sub(r'([,:;.?!\\'()])(?=[\\w])', r'\\1 ', text)\n",
    "    text = re.sub(r'\\s+', ' ', text)\n",
    "    \n",
    "    return text\n"
   ]
  },
  {
   "cell_type": "code",
   "execution_count": 13,
   "id": "931740cf-cc97-4d1e-9da2-a0ef7513e648",
   "metadata": {},
   "outputs": [],
   "source": [
    "data_path = '/home/elicer/ATOSS/data/sft'\n",
    "data_types = ['train','dev']\n",
    "task_datasets = [['asqp','rest15'],['asqp','rest16'],['acos','rest16'],['acos','laptop16']]\n",
    "\n",
    "for data_type in data_types:    \n",
    "    df = pd.read_excel(os.path.join(data_path, f'결과파일_{data_type}.xlsx'))\n",
    "    for task_dataset in task_datasets:\n",
    "        t_df = df[df['dataset'] == f'{task_dataset[0]}_{task_dataset[1]}']\n",
    "        t_list = t_df.apply(lambda row: f\"{add_space(row['sent_0'])}####{add_space(row['target'])}\", axis=1).tolist()\n",
    "        \n",
    "        save_file = os.path.join(data_path, task_dataset[0], task_dataset[1], f'{data_type}.txt')\n",
    "        with open(save_file, 'w', encoding='UTF-8') as file:\n",
    "            for line in t_list:\n",
    "                file.write(line + '\\n')       \n"
   ]
  },
  {
   "cell_type": "code",
   "execution_count": null,
   "id": "a736cbc2-351b-4833-bba5-30af560c46d1",
   "metadata": {},
   "outputs": [],
   "source": []
  }
 ],
 "metadata": {
  "kernelspec": {
   "display_name": "atoss",
   "language": "python",
   "name": "atoss"
  },
  "language_info": {
   "codemirror_mode": {
    "name": "ipython",
    "version": 3
   },
   "file_extension": ".py",
   "mimetype": "text/x-python",
   "name": "python",
   "nbconvert_exporter": "python",
   "pygments_lexer": "ipython3",
   "version": "3.8.13"
  }
 },
 "nbformat": 4,
 "nbformat_minor": 5
}
