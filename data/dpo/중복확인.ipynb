{
 "cells": [
  {
   "cell_type": "code",
   "execution_count": 1,
   "id": "79c2f89f-42b5-45ed-8e77-5d04ae48ffdc",
   "metadata": {},
   "outputs": [],
   "source": [
    "import pandas as pd"
   ]
  },
  {
   "cell_type": "code",
   "execution_count": 128,
   "id": "b3b660e5-abd8-445e-b53a-ada80253fb41",
   "metadata": {},
   "outputs": [],
   "source": [
    "df = pd.read_csv('asqp.txt',sep='\\t',header=None)"
   ]
  },
  {
   "cell_type": "code",
   "execution_count": 129,
   "id": "7b681228-65db-45a5-a49a-adf44c7f4499",
   "metadata": {},
   "outputs": [],
   "source": [
    "df['공백제거'] = df[0].str.lower().str.replace(\" \",'').str.split('####')\n",
    "df['분리'] = df[0].str.lower().str.split('####')"
   ]
  },
  {
   "cell_type": "code",
   "execution_count": 130,
   "id": "86ae8930-5cff-4be5-8bf2-67af51e80e29",
   "metadata": {},
   "outputs": [],
   "source": [
    "new_df = pd.DataFrame(df['공백제거'].to_list(), columns=['chosen', 'prompt', 'rejected'])\n",
    "new_df2 = pd.DataFrame(df['분리'].to_list(), columns=['chosen', 'prompt', 'rejected'])"
   ]
  },
  {
   "cell_type": "code",
   "execution_count": 131,
   "id": "0e1dec72-8239-4488-ad62-f26163826239",
   "metadata": {},
   "outputs": [],
   "source": [
    "new_df['Comparison'] = new_df.apply(lambda row: 'o' if row['chosen'] == row['prompt'] == row['rejected'] else 'x', axis=1)\n",
    "new_df2['Comparison'] = new_df2.apply(lambda row: 'o' if row['chosen'] == row['prompt'] == row['rejected'] else 'x', axis=1)"
   ]
  },
  {
   "cell_type": "code",
   "execution_count": 132,
   "id": "8108f4a4-829f-4c11-9edc-b389fda340c5",
   "metadata": {},
   "outputs": [
    {
     "data": {
      "text/plain": [
       "(292, 12, 1440)"
      ]
     },
     "execution_count": 132,
     "metadata": {},
     "output_type": "execute_result"
    }
   ],
   "source": [
    "len(new_df[new_df['Comparison']=='o']),len(new_df2[new_df2['Comparison']=='o']),len(df)"
   ]
  },
  {
   "cell_type": "code",
   "execution_count": 142,
   "id": "4f7518a4-38a1-4d56-a7ba-ca048cdfd448",
   "metadata": {},
   "outputs": [
    {
     "data": {
      "text/html": [
       "<div>\n",
       "<style scoped>\n",
       "    .dataframe tbody tr th:only-of-type {\n",
       "        vertical-align: middle;\n",
       "    }\n",
       "\n",
       "    .dataframe tbody tr th {\n",
       "        vertical-align: top;\n",
       "    }\n",
       "\n",
       "    .dataframe thead th {\n",
       "        text-align: right;\n",
       "    }\n",
       "</style>\n",
       "<table border=\"1\" class=\"dataframe\">\n",
       "  <thead>\n",
       "    <tr style=\"text-align: right;\">\n",
       "      <th></th>\n",
       "      <th>chosen</th>\n",
       "      <th>prompt</th>\n",
       "      <th>rejected</th>\n",
       "      <th>Comparison</th>\n",
       "    </tr>\n",
       "  </thead>\n",
       "  <tbody>\n",
       "    <tr>\n",
       "      <th>857</th>\n",
       "      <td>still we keep going back : )</td>\n",
       "      <td>still we keep going back : )</td>\n",
       "      <td>still we keep going back : )</td>\n",
       "      <td>o</td>\n",
       "    </tr>\n",
       "    <tr>\n",
       "      <th>858</th>\n",
       "      <td>so good</td>\n",
       "      <td>so good</td>\n",
       "      <td>so good</td>\n",
       "      <td>o</td>\n",
       "    </tr>\n",
       "    <tr>\n",
       "      <th>872</th>\n",
       "      <td>great taste</td>\n",
       "      <td>great taste</td>\n",
       "      <td>great taste</td>\n",
       "      <td>o</td>\n",
       "    </tr>\n",
       "    <tr>\n",
       "      <th>876</th>\n",
       "      <td>great survice</td>\n",
       "      <td>great survice</td>\n",
       "      <td>great survice</td>\n",
       "      <td>o</td>\n",
       "    </tr>\n",
       "    <tr>\n",
       "      <th>963</th>\n",
       "      <td>love al di la</td>\n",
       "      <td>love al di la</td>\n",
       "      <td>love al di la</td>\n",
       "      <td>o</td>\n",
       "    </tr>\n",
       "    <tr>\n",
       "      <th>1009</th>\n",
       "      <td>but overall i give it a 10</td>\n",
       "      <td>but overall i give it a 10</td>\n",
       "      <td>but overall i give it a 10</td>\n",
       "      <td>o</td>\n",
       "    </tr>\n",
       "    <tr>\n",
       "      <th>1036</th>\n",
       "      <td>great shabu shabu</td>\n",
       "      <td>great shabu shabu</td>\n",
       "      <td>great shabu shabu</td>\n",
       "      <td>o</td>\n",
       "    </tr>\n",
       "    <tr>\n",
       "      <th>1050</th>\n",
       "      <td>cirspy crust margherita pizza</td>\n",
       "      <td>cirspy crust margherita pizza</td>\n",
       "      <td>cirspy crust margherita pizza</td>\n",
       "      <td>o</td>\n",
       "    </tr>\n",
       "    <tr>\n",
       "      <th>1276</th>\n",
       "      <td>more williamsburg garbage</td>\n",
       "      <td>more williamsburg garbage</td>\n",
       "      <td>more williamsburg garbage</td>\n",
       "      <td>o</td>\n",
       "    </tr>\n",
       "    <tr>\n",
       "      <th>1287</th>\n",
       "      <td>very pleased</td>\n",
       "      <td>very pleased</td>\n",
       "      <td>very pleased</td>\n",
       "      <td>o</td>\n",
       "    </tr>\n",
       "    <tr>\n",
       "      <th>1348</th>\n",
       "      <td>mmmmmmmmmmmmmmm so delicious</td>\n",
       "      <td>mmmmmmmmmmmmmmm so delicious</td>\n",
       "      <td>mmmmmmmmmmmmmmm so delicious</td>\n",
       "      <td>o</td>\n",
       "    </tr>\n",
       "    <tr>\n",
       "      <th>1417</th>\n",
       "      <td>gross food – wow-</td>\n",
       "      <td>gross food – wow-</td>\n",
       "      <td>gross food – wow-</td>\n",
       "      <td>o</td>\n",
       "    </tr>\n",
       "  </tbody>\n",
       "</table>\n",
       "</div>"
      ],
      "text/plain": [
       "                             chosen                         prompt  \\\n",
       "857    still we keep going back : )   still we keep going back : )   \n",
       "858                         so good                        so good   \n",
       "872                     great taste                    great taste   \n",
       "876                   great survice                  great survice   \n",
       "963                   love al di la                  love al di la   \n",
       "1009     but overall i give it a 10     but overall i give it a 10   \n",
       "1036              great shabu shabu              great shabu shabu   \n",
       "1050  cirspy crust margherita pizza  cirspy crust margherita pizza   \n",
       "1276      more williamsburg garbage      more williamsburg garbage   \n",
       "1287                   very pleased                   very pleased   \n",
       "1348   mmmmmmmmmmmmmmm so delicious   mmmmmmmmmmmmmmm so delicious   \n",
       "1417              gross food – wow-              gross food – wow-   \n",
       "\n",
       "                           rejected Comparison  \n",
       "857    still we keep going back : )          o  \n",
       "858                         so good          o  \n",
       "872                     great taste          o  \n",
       "876                   great survice          o  \n",
       "963                   love al di la          o  \n",
       "1009     but overall i give it a 10          o  \n",
       "1036              great shabu shabu          o  \n",
       "1050  cirspy crust margherita pizza          o  \n",
       "1276      more williamsburg garbage          o  \n",
       "1287                   very pleased          o  \n",
       "1348   mmmmmmmmmmmmmmm so delicious          o  \n",
       "1417              gross food – wow-          o  "
      ]
     },
     "execution_count": 142,
     "metadata": {},
     "output_type": "execute_result"
    }
   ],
   "source": [
    "new_df2[new_df2['Comparison']=='o']"
   ]
  },
  {
   "cell_type": "code",
   "execution_count": 137,
   "id": "74c47302-ed12-4624-983e-00f8df909431",
   "metadata": {},
   "outputs": [
    {
     "data": {
      "text/plain": [
       "\"The wait here is long for dim sum , but if you do n't like sharing tables or if the typical raucous dim sum atmosphere is not your gig , this is a sleek ( for Chinatown ) alternative .####The wait here is long for dim sum , but if you do n't like sharing tables or if the typical raucous dim sum atmosphere is not your gig , this is a sleek ( for Chinatown ) alternative .####the wait here is long for dim sum. you don't like sharing tables. the typical raucous dim sum atmosphere is not your gig. this is a sleek alternative. the alternative is for chinatown.\""
      ]
     },
     "execution_count": 137,
     "metadata": {},
     "output_type": "execute_result"
    }
   ],
   "source": [
    "df[0][0]"
   ]
  },
  {
   "cell_type": "code",
   "execution_count": null,
   "id": "32afdb68-0b88-466b-99c2-be0a9d04a44c",
   "metadata": {},
   "outputs": [],
   "source": []
  }
 ],
 "metadata": {
  "kernelspec": {
   "display_name": "atoss",
   "language": "python",
   "name": "atoss"
  },
  "language_info": {
   "codemirror_mode": {
    "name": "ipython",
    "version": 3
   },
   "file_extension": ".py",
   "mimetype": "text/x-python",
   "name": "python",
   "nbconvert_exporter": "python",
   "pygments_lexer": "ipython3",
   "version": "3.8.13"
  }
 },
 "nbformat": 4,
 "nbformat_minor": 5
}
